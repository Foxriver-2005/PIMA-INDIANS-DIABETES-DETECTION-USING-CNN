from numpy import loadtxt #load the dataset
from keras.models import Sequential #adding layers in sequential order
from keras.layers import Dense #Mathematical
#load the data into dataset variable

dataset = loadtxt('pima-indians-diabetes.csv',delimeter=',') #read/load the dataset

#Segregate dataset into input and output
X = dataset[:,0:8] #input/feature/x
y = dataset[:,8] #output/classes/y
print(x)

#designing neural network
model = Sequential()
model.add(Dense(12,input_dim=8,activation='relu'))
model.add(Dense(8,activation='relu'))
model.add(Dense(1,activation='sigmoid'))

#Compile
model.compile(loss='binary_crossentropy',optimizer='adam',metrics=['accuracy'])

#Train
model.fit(X,y, epochs=50,batch_size=10)
#Evaluate the model

_,accuracy = model.evaluate(X,y)
print('Accuracy: %.2f' % (accuracy*100))

model_json = model.to_json()
with open("model.json","w") as json_file:
    json_file.write(model_json)
model.save_weights("model.h5")
print("Saved model to disk")
